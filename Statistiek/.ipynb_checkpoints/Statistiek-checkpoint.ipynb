{
 "cells": [
  {
   "cell_type": "markdown",
   "metadata": {},
   "source": [
    "# Preparation of dataset"
   ]
  },
  {
   "cell_type": "code",
   "execution_count": 189,
   "metadata": {},
   "outputs": [],
   "source": [
    "filename = 'bitcoin_price.csv'\n",
    "filename2 = 'ethereum_price.csv'\n",
    "import numpy as np\n",
    "import matplotlib.pyplot as plt\n",
    "from scipy import stats\n",
    "import pandas as pd\n",
    "import datetime\n",
    "\n",
    "d = lambda x: pd.datetime.strptime(x, '%b %d, %Y')\n",
    "\n",
    "dataBTC = ps.read_csv(filename, delimiter=',', parse_dates=['Date'], date_parser=d)\n",
    "dataETH = ps.read_csv(filename2, delimiter=',', parse_dates=['Date'], date_parser=d)"
   ]
  },
  {
   "cell_type": "code",
   "execution_count": 190,
   "metadata": {},
   "outputs": [
    {
     "data": {
      "text/plain": [
       "Date          datetime64[ns]\n",
       "Open                 float64\n",
       "High                 float64\n",
       "Low                  float64\n",
       "Close                float64\n",
       "Volume                object\n",
       "Market Cap            object\n",
       "dtype: object"
      ]
     },
     "execution_count": 190,
     "metadata": {},
     "output_type": "execute_result"
    }
   ],
   "source": [
    "dataBTC.dtypes"
   ]
  },
  {
   "cell_type": "code",
   "execution_count": 191,
   "metadata": {},
   "outputs": [
    {
     "data": {
      "text/plain": [
       "<bound method NDFrame.head of            Date      Open      High       Low     Close          Volume  \\\n",
       "0    2018-02-20  11231.80  11958.50  11231.80  11403.70   9,926,540,000   \n",
       "1    2018-02-19  10552.60  11273.80  10513.20  11225.30   7,652,090,000   \n",
       "2    2018-02-18  11123.40  11349.80  10326.00  10551.80   8,744,010,000   \n",
       "3    2018-02-17  10207.50  11139.50  10149.40  11112.70   8,660,880,000   \n",
       "4    2018-02-16  10135.70  10324.10   9824.82  10233.90   7,296,160,000   \n",
       "5    2018-02-15   9488.32  10234.80   9395.58  10166.40   9,062,540,000   \n",
       "6    2018-02-14   8599.92   9518.54   8599.92   9494.63   7,909,820,000   \n",
       "7    2018-02-13   8926.72   8958.47   8455.41   8598.31   5,696,720,000   \n",
       "8    2018-02-12   8141.43   8985.92   8141.43   8926.57   6,256,440,000   \n",
       "9    2018-02-11   8616.13   8616.13   7931.10   8129.97   6,122,190,000   \n",
       "10   2018-02-10   8720.08   9122.55   8295.47   8621.90   7,780,960,000   \n",
       "11   2018-02-09   8271.84   8736.98   7884.71   8736.98   6,784,820,000   \n",
       "12   2018-02-08   7637.86   8558.77   7637.86   8265.59   9,346,750,000   \n",
       "13   2018-02-07   7755.49   8509.11   7236.79   7621.30   9,169,280,000   \n",
       "14   2018-02-06   7051.75   7850.70   6048.26   7754.00  13,999,800,000   \n",
       "15   2018-02-05   8270.54   8364.84   6756.68   6955.27   9,285,290,000   \n",
       "16   2018-02-04   9175.70   9334.87   8031.22   8277.01   7,073,550,000   \n",
       "17   2018-02-03   8852.12   9430.75   8251.63   9174.91   7,263,790,000   \n",
       "18   2018-02-02   9142.28   9142.28   7796.49   8830.75  12,726,900,000   \n",
       "19   2018-02-01  10237.30  10288.80   8812.28   9170.54   9,959,400,000   \n",
       "20   2018-01-31  10108.20  10381.60   9777.42  10221.10   8,041,160,000   \n",
       "21   2018-01-30  11306.80  11307.20  10036.20  10106.30   8,637,860,000   \n",
       "22   2018-01-29  11755.50  11875.60  11179.20  11296.40   7,107,360,000   \n",
       "23   2018-01-28  11475.30  12040.30  11475.30  11786.30   8,350,360,000   \n",
       "24   2018-01-27  11174.90  11614.90  10989.20  11440.70   7,583,270,000   \n",
       "25   2018-01-26  11256.00  11656.70  10470.30  11171.40   9,746,200,000   \n",
       "26   2018-01-25  11421.70  11785.70  11057.40  11259.40   8,873,170,000   \n",
       "27   2018-01-24  10903.40  11501.40  10639.80  11359.40   9,940,990,000   \n",
       "28   2018-01-23  10944.50  11377.60  10129.70  10868.40   9,660,610,000   \n",
       "29   2018-01-22  11633.10  11966.40  10240.20  10931.40  10,537,400,000   \n",
       "...         ...       ...       ...       ...       ...             ...   \n",
       "1730 2013-05-27    133.50    135.47    124.70    129.75               -   \n",
       "1731 2013-05-26    131.99    136.00    130.62    133.48               -   \n",
       "1732 2013-05-25    133.10    133.22    128.90    131.98               -   \n",
       "1733 2013-05-24    126.30    133.85    125.72    133.20               -   \n",
       "1734 2013-05-23    123.80    126.93    123.10    126.70               -   \n",
       "1735 2013-05-22    122.89    124.00    122.00    123.89               -   \n",
       "1736 2013-05-21    122.02    123.00    121.21    122.88               -   \n",
       "1737 2013-05-20    122.50    123.62    120.12    122.00               -   \n",
       "1738 2013-05-19    123.21    124.50    119.57    121.99               -   \n",
       "1739 2013-05-18    123.50    125.25    122.30    123.50               -   \n",
       "1740 2013-05-17    118.21    125.30    116.57    123.02               -   \n",
       "1741 2013-05-16    114.22    118.76    112.20    118.76               -   \n",
       "1742 2013-05-15    111.40    115.81    103.50    114.22               -   \n",
       "1743 2013-05-14    117.98    119.80    110.25    111.50               -   \n",
       "1744 2013-05-13    114.82    118.70    114.50    117.98               -   \n",
       "1745 2013-05-12    115.64    117.45    113.44    115.00               -   \n",
       "1746 2013-05-11    117.70    118.68    113.01    115.24               -   \n",
       "1747 2013-05-10    112.80    122.00    111.55    117.20               -   \n",
       "1748 2013-05-09    113.20    113.46    109.26    112.67               -   \n",
       "1749 2013-05-08    109.60    115.78    109.60    113.57               -   \n",
       "1750 2013-05-07    112.25    113.44     97.70    111.50               -   \n",
       "1751 2013-05-06    115.98    124.66    106.64    112.30               -   \n",
       "1752 2013-05-05    112.90    118.80    107.14    115.91               -   \n",
       "1753 2013-05-04     98.10    115.00     92.50    112.50               -   \n",
       "1754 2013-05-03    106.25    108.13     79.10     97.75               -   \n",
       "1755 2013-05-02    116.38    125.60     92.28    105.21               -   \n",
       "1756 2013-05-01    139.00    139.89    107.72    116.99               -   \n",
       "1757 2013-04-30    144.00    146.93    134.05    139.00               -   \n",
       "1758 2013-04-29    134.44    147.49    134.00    144.54               -   \n",
       "1759 2013-04-28    135.30    135.98    132.10    134.21               -   \n",
       "\n",
       "           Market Cap  \n",
       "0     189,536,000,000  \n",
       "1     178,055,000,000  \n",
       "2     187,663,000,000  \n",
       "3     172,191,000,000  \n",
       "4     170,960,000,000  \n",
       "5     160,025,000,000  \n",
       "6     145,023,000,000  \n",
       "7     150,516,000,000  \n",
       "8     137,258,000,000  \n",
       "9     145,245,000,000  \n",
       "10    146,981,000,000  \n",
       "11    139,412,000,000  \n",
       "12    128,714,000,000  \n",
       "13    130,683,000,000  \n",
       "14    118,810,000,000  \n",
       "15    139,325,000,000  \n",
       "16    154,553,000,000  \n",
       "17    149,085,000,000  \n",
       "18    153,953,000,000  \n",
       "19    172,372,000,000  \n",
       "20    170,183,000,000  \n",
       "21    190,339,000,000  \n",
       "22    197,871,000,000  \n",
       "23    193,133,000,000  \n",
       "24    188,054,000,000  \n",
       "25    189,398,000,000  \n",
       "26    192,163,000,000  \n",
       "27    183,419,000,000  \n",
       "28    184,087,000,000  \n",
       "29    195,645,000,000  \n",
       "...               ...  \n",
       "1730    1,495,520,000  \n",
       "1731    1,478,030,000  \n",
       "1732    1,489,950,000  \n",
       "1733    1,413,300,000  \n",
       "1734    1,384,780,000  \n",
       "1735    1,374,130,000  \n",
       "1736    1,363,940,000  \n",
       "1737    1,368,910,000  \n",
       "1738    1,376,370,000  \n",
       "1739    1,379,140,000  \n",
       "1740    1,319,590,000  \n",
       "1741    1,274,620,000  \n",
       "1742    1,242,760,000  \n",
       "1743    1,315,720,000  \n",
       "1744    1,279,980,000  \n",
       "1745    1,288,630,000  \n",
       "1746    1,311,050,000  \n",
       "1747    1,255,970,000  \n",
       "1748    1,259,980,000  \n",
       "1749    1,219,450,000  \n",
       "1750    1,248,470,000  \n",
       "1751    1,289,470,000  \n",
       "1752    1,254,760,000  \n",
       "1753    1,089,890,000  \n",
       "1754    1,180,070,000  \n",
       "1755    1,292,190,000  \n",
       "1756    1,542,820,000  \n",
       "1757    1,597,780,000  \n",
       "1758    1,491,160,000  \n",
       "1759    1,500,520,000  \n",
       "\n",
       "[1760 rows x 7 columns]>"
      ]
     },
     "execution_count": 191,
     "metadata": {},
     "output_type": "execute_result"
    }
   ],
   "source": [
    "dataBTC.head"
   ]
  },
  {
   "cell_type": "code",
   "execution_count": 192,
   "metadata": {},
   "outputs": [],
   "source": [
    "dataETH = dataETH.drop(['Market Cap','Volume'], axis=1)"
   ]
  },
  {
   "cell_type": "code",
   "execution_count": 193,
   "metadata": {},
   "outputs": [],
   "source": [
    "dataBTC = dataBTC.drop(['Market Cap','Volume'], axis=1)"
   ]
  },
  {
   "cell_type": "markdown",
   "metadata": {},
   "source": [
    "# Statistics"
   ]
  },
  {
   "cell_type": "markdown",
   "metadata": {},
   "source": [
    "## Centrummaten"
   ]
  },
  {
   "cell_type": "markdown",
   "metadata": {},
   "source": [
    "### Gemiddelde "
   ]
  },
  {
   "cell_type": "code",
   "execution_count": 194,
   "metadata": {},
   "outputs": [
    {
     "name": "stdout",
     "output_type": "stream",
     "text": [
      "gemiddelde is Open     1479.574239\n",
      "High     1536.991108\n",
      "Low      1418.251273\n",
      "Close    1485.747000\n",
      "dtype: float64\n"
     ]
    }
   ],
   "source": [
    "print(\"gemiddelde is\", dataBTC.drop(columns=\"Date\").mean())"
   ]
  },
  {
   "cell_type": "markdown",
   "metadata": {},
   "source": [
    "### mediaan"
   ]
  },
  {
   "cell_type": "code",
   "execution_count": 195,
   "metadata": {},
   "outputs": [
    {
     "name": "stdout",
     "output_type": "stream",
     "text": [
      "mediaan is  Open     480.715\n",
      "High     495.195\n",
      "Low      472.510\n",
      "Close    482.810\n",
      "dtype: float64\n"
     ]
    }
   ],
   "source": [
    "print(\"mediaan is \" , dataBTC.median())"
   ]
  },
  {
   "cell_type": "markdown",
   "metadata": {},
   "source": [
    "### modus"
   ]
  },
  {
   "cell_type": "code",
   "execution_count": 198,
   "metadata": {},
   "outputs": [
    {
     "name": "stdout",
     "output_type": "stream",
     "text": [
      "modus is      Open    High     Low  Close\n",
      "0  418.42  108.00   93.00  104.0\n",
      "1     NaN  231.22  429.08    NaN\n"
     ]
    }
   ],
   "source": [
    "print('modus is', dataBTC.mode(numeric_only=True))"
   ]
  },
  {
   "cell_type": "markdown",
   "metadata": {},
   "source": [
    "## Spreidingsmaten"
   ]
  },
  {
   "cell_type": "markdown",
   "metadata": {},
   "source": [
    "### bereik"
   ]
  },
  {
   "cell_type": "code",
   "execution_count": 196,
   "metadata": {},
   "outputs": [
    {
     "name": "stdout",
     "output_type": "stream",
     "text": [
      "Bereik/Range is  Date     2018-02-20 00:00:00\n",
      "Open                 19475.8\n",
      "High                   20089\n",
      "Low                  18974.1\n",
      "Close                19497.4\n",
      "dtype: object   Date     2013-04-28 00:00:00\n",
      "Open                    68.5\n",
      "High                   74.56\n",
      "Low                    65.53\n",
      "Close                  68.43\n",
      "dtype: object\n"
     ]
    }
   ],
   "source": [
    "print(\"Bereik/Range is \", dataBTC.max() ,\" \", dataBTC.min())"
   ]
  },
  {
   "cell_type": "markdown",
   "metadata": {},
   "source": [
    "### interkwartielafstand"
   ]
  },
  {
   "cell_type": "code",
   "execution_count": 208,
   "metadata": {},
   "outputs": [
    {
     "data": {
      "text/plain": [
       "<matplotlib.axes._subplots.AxesSubplot at 0x26a8608b5f8>"
      ]
     },
     "execution_count": 208,
     "metadata": {},
     "output_type": "execute_result"
    },
    {
     "data": {
      "image/png": "[encoded data removed]",
      "text/plain": [
       "<Figure size 432x288 with 1 Axes>"
      ]
     },
     "metadata": {
      "needs_background": "light"
     },
     "output_type": "display_data"
    }
   ],
   "source": [
    "dataBTC.boxplot(column=\"Open\")"
   ]
  },
  {
   "cell_type": "markdown",
   "metadata": {},
   "source": [
    "### standaarddeviatie"
   ]
  },
  {
   "cell_type": "code",
   "execution_count": 199,
   "metadata": {},
   "outputs": [
    {
     "name": "stdout",
     "output_type": "stream",
     "text": [
      "standaarddeviatie is  Open     2950.457188\n",
      "High     3092.950362\n",
      "Low      2780.859459\n",
      "Close    2959.265478\n",
      "dtype: float64\n"
     ]
    }
   ],
   "source": [
    "print(\"standaarddeviatie is \", dataBTC.std())"
   ]
  },
  {
   "cell_type": "markdown",
   "metadata": {},
   "source": [
    "### Correlatie"
   ]
  },
  {
   "cell_type": "code",
   "execution_count": 201,
   "metadata": {},
   "outputs": [
    {
     "data": {
      "text/html": [
       "<div>\n",
       "<style scoped>\n",
       "    .dataframe tbody tr th:only-of-type {\n",
       "        vertical-align: middle;\n",
       "    }\n",
       "\n",
       "    .dataframe tbody tr th {\n",
       "        vertical-align: top;\n",
       "    }\n",
       "\n",
       "    .dataframe thead th {\n",
       "        text-align: right;\n",
       "    }\n",
       "</style>\n",
       "<table border=\"1\" class=\"dataframe\">\n",
       "  <thead>\n",
       "    <tr style=\"text-align: right;\">\n",
       "      <th></th>\n",
       "      <th>Open</th>\n",
       "      <th>High</th>\n",
       "      <th>Low</th>\n",
       "      <th>Close</th>\n",
       "    </tr>\n",
       "  </thead>\n",
       "  <tbody>\n",
       "    <tr>\n",
       "      <th>Open</th>\n",
       "      <td>1.000000</td>\n",
       "      <td>0.998715</td>\n",
       "      <td>0.997598</td>\n",
       "      <td>0.996979</td>\n",
       "    </tr>\n",
       "    <tr>\n",
       "      <th>High</th>\n",
       "      <td>0.998715</td>\n",
       "      <td>1.000000</td>\n",
       "      <td>0.998005</td>\n",
       "      <td>0.999085</td>\n",
       "    </tr>\n",
       "    <tr>\n",
       "      <th>Low</th>\n",
       "      <td>0.997598</td>\n",
       "      <td>0.998005</td>\n",
       "      <td>1.000000</td>\n",
       "      <td>0.998606</td>\n",
       "    </tr>\n",
       "    <tr>\n",
       "      <th>Close</th>\n",
       "      <td>0.996979</td>\n",
       "      <td>0.999085</td>\n",
       "      <td>0.998606</td>\n",
       "      <td>1.000000</td>\n",
       "    </tr>\n",
       "  </tbody>\n",
       "</table>\n",
       "</div>"
      ],
      "text/plain": [
       "           Open      High       Low     Close\n",
       "Open   1.000000  0.998715  0.997598  0.996979\n",
       "High   0.998715  1.000000  0.998005  0.999085\n",
       "Low    0.997598  0.998005  1.000000  0.998606\n",
       "Close  0.996979  0.999085  0.998606  1.000000"
      ]
     },
     "execution_count": 201,
     "metadata": {},
     "output_type": "execute_result"
    }
   ],
   "source": [
    "dataBTC.corr()"
   ]
  },
  {
   "cell_type": "code",
   "execution_count": 202,
   "metadata": {},
   "outputs": [
    {
     "name": "stdout",
     "output_type": "stream",
     "text": [
      "Correlatie met Bitcoin en Ethereum\n",
      "Open     0.905612\n",
      "High     0.904421\n",
      "Low      0.910739\n",
      "Close    0.906095\n",
      "dtype: float64\n"
     ]
    }
   ],
   "source": [
    "print(\"Correlatie met Bitcoin en Ethereum\")\n",
    "print(dataBTC.corrwith(dataETH))"
   ]
  },
  {
   "cell_type": "code",
   "execution_count": 203,
   "metadata": {},
   "outputs": [
    {
     "data": {
      "text/plain": [
       "<matplotlib.axes._subplots.AxesSubplot at 0x26a85ea87b8>"
      ]
     },
     "execution_count": 203,
     "metadata": {},
     "output_type": "execute_result"
    },
    {
     "data": {
      "image/png": "[encoded data removed]",
      "text/plain": [
       "<Figure size 432x288 with 1 Axes>"
      ]
     },
     "metadata": {
      "needs_background": "light"
     },
     "output_type": "display_data"
    }
   ],
   "source": [
    "dataBTC.sort_values(by=\"Date\", ascending=False).plot(x=\"Date\",y=\"Open\",title=\"Grafiek Bitcoin\")"
   ]
  },
  {
   "cell_type": "code",
   "execution_count": 204,
   "metadata": {},
   "outputs": [
    {
     "data": {
      "text/plain": [
       "<matplotlib.axes._subplots.AxesSubplot at 0x26a85f8a470>"
      ]
     },
     "execution_count": 204,
     "metadata": {},
     "output_type": "execute_result"
    },
    {
     "data": {
      "image/png": "[encoded data removed]",
      "text/plain": [
       "<Figure size 432x288 with 1 Axes>"
      ]
     },
     "metadata": {
      "needs_background": "light"
     },
     "output_type": "display_data"
    }
   ],
   "source": [
    "dataETH.sort_values(by=\"Date\", ascending=False).plot(x=\"Date\",y=\"Open\", title=\"Grafiek Ethereum\")"
   ]
  }
 ],
 "metadata": {
  "kernelspec": {
   "display_name": "Python 3",
   "language": "python",
   "name": "python3"
  },
  "language_info": {
   "codemirror_mode": {
    "name": "ipython",
    "version": 3
   },
   "file_extension": ".py",
   "mimetype": "text/x-python",
   "name": "python",
   "nbconvert_exporter": "python",
   "pygments_lexer": "ipython3",
   "version": "3.7.0"
  }
 },
 "nbformat": 4,
 "nbformat_minor": 2
}
