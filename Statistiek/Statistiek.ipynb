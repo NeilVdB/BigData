{
 "cells": [
  {
   "cell_type": "markdown",
   "metadata": {},
   "source": [
    "# Preparation of dataset"
   ]
  },
  {
   "cell_type": "code",
   "execution_count": 4,
   "metadata": {},
   "outputs": [],
   "source": [
    "filename = 'dataset.csv'\n",
    "import numpy as np\n",
    "import matplotlib.pyplot as plt\n",
    "from scipy import stats\n",
    "dataArray = np.recfromcsv(filename, encoding = None)"
   ]
  },
  {
   "cell_type": "code",
   "execution_count": 5,
   "metadata": {},
   "outputs": [
    {
     "name": "stdout",
     "output_type": "stream",
     "text": [
      "[('September 20 - 2017 at 06:00PM', '$3990.70')\n",
      " ('September 21 - 2017 at 05:59PM', '$3749.45')\n",
      " ('September 22 - 2017 at 06:00PM', '$3531.57')\n",
      " ('September 23 - 2017 at 06:00PM', '$3750.01')\n",
      " ('September 24 - 2017 at 05:59PM', '$3707.48')\n",
      " ('September 25 - 2017 at 05:59PM', '$3923.99')\n",
      " ('September 26 - 2017 at 06:00PM', '$3927.33')\n",
      " ('September 27 - 2017 at 05:59PM', '$4073.78')\n",
      " ('September 28 - 2017 at 06:00PM', '$4139.03')\n",
      " ('September 29 - 2017 at 05:59PM', '$4187.37')\n",
      " ('September 30 - 2017 at 06:00PM', '$4330.25')\n",
      " ('October 1 - 2017 at 05:59PM', '$4270.01')\n",
      " ('October 2 - 2017 at 05:59PM', '$4380.46')\n",
      " ('October 3 - 2017 at 06:00PM', '$4292.80')\n",
      " ('October 4 - 2017 at 05:59PM', '$4212.04')\n",
      " ('October 5 - 2017 at 05:59PM', '$4321.98')\n",
      " ('October 6 - 2017 at 06:00PM', '$4382.01')\n",
      " ('October 7 - 2017 at 06:00PM', '$4346.98')\n",
      " ('October 8 - 2017 at 05:59PM', '$4569.99')\n",
      " ('October 9 - 2017 at 06:00PM', '$4645.25')\n",
      " ('October 10 - 2017 at 05:59PM', '$4802.02')\n",
      " ('October 11 - 2017 at 05:59PM', '$4839.01')\n",
      " ('October 12 - 2017 at 06:00PM', '$5297.06')\n",
      " ('October 13 - 2017 at 06:00PM', '$5714.95')\n",
      " ('October 14 - 2017 at 06:00PM', '$5709.83')\n",
      " ('October 15 - 2017 at 06:00PM', '$5534.16')\n",
      " ('October 16 - 2017 at 05:59PM', '$5699.97')\n",
      " ('October 17 - 2017 at 05:59PM', '$5589.51')\n",
      " ('October 18 - 2017 at 05:59PM', '$5342.02')\n",
      " ('October 19 - 2017 at 06:00PM', '$5650.22')\n",
      " ('October 20 - 2017 at 05:59PM', '$5964.24')\n",
      " ('October 21 - 2017 at 05:59PM', '$6165.91')\n",
      " ('October 22 - 2017 at 06:00PM', '$6018.87')\n",
      " ('October 23 - 2017 at 05:59PM', '$5791.99')\n",
      " ('October 24 - 2017 at 05:59PM', '$5648.52')\n",
      " ('October 25 - 2017 at 05:59PM', '$5483.92')\n",
      " ('October 26 - 2017 at 05:59PM', '$5951.26')\n",
      " ('October 27 - 2017 at 06:00PM', '$5756.38')\n",
      " ('October 28 - 2017 at 06:00PM', '$5715.01')\n",
      " ('October 29 - 2017 at 04:59PM', '$5986.27')\n",
      " ('October 30 - 2017 at 04:59PM', '$6087.02')\n",
      " ('October 31 - 2017 at 05:00PM', '$6365.68')\n",
      " ('November 1 - 2017 at 05:00PM', '$6569.35')\n",
      " ('November 2 - 2017 at 04:59PM', '$7077.99')\n",
      " ('November 3 - 2017 at 04:59PM', '$7373.00')\n",
      " ('November 4 - 2017 at 05:00PM', '$7334.78')\n",
      " ('November 5 - 2017 at 05:59PM', '$7535.06')\n",
      " ('November 6 - 2017 at 06:00PM', '$7152.81')\n",
      " ('November 7 - 2017 at 05:59PM', '$7006.04')\n",
      " ('November 8 - 2017 at 05:59PM', '$7475.00')\n",
      " ('November 9 - 2017 at 05:59PM', '$7171.12')\n",
      " ('November 10 - 2017 at 05:59PM', '$6894.79')\n",
      " ('November 11 - 2017 at 06:00PM', '$6401.03')\n",
      " ('November 17 - 2017 at 06:00PM', '$7888.01')\n",
      " ('November 18 - 2017 at 06:00PM', '$7660.01')\n",
      " ('November 19 - 2017 at 05:59PM', '$7799.95')\n",
      " ('November 20 - 2017 at 06:00PM', '$8240.01')\n",
      " ('November 21 - 2017 at 05:59PM', '$8282.00')\n",
      " ('November 22 - 2017 at 05:59PM', '$8200.00')\n",
      " ('November 23 - 2017 at 05:59PM', '$8178.00')\n",
      " ('November 24 - 2017 at 06:00PM', '$8200.00')\n",
      " ('November 25 - 2017 at 05:59PM', '$8660.17')\n",
      " ('November 26 - 2017 at 06:00PM', '$9383.00')\n",
      " ('November 27 - 2017 at 06:00PM', '$9604.09')\n",
      " ('November 28 - 2017 at 05:59PM', '$9938.94')\n",
      " ('November 29 - 2017 at 06:00PM', '$10827.46')\n",
      " ('November 30 - 2017 at 06:00PM', '$9469.28')\n",
      " ('December 1 - 2017 at 05:59PM', '$10620.99')\n",
      " ('December 2 - 2017 at 06:00PM', '$10866.00')\n",
      " ('December 3 - 2017 at 06:00PM', '$11695.37')\n",
      " ('December 4 - 2017 at 05:59PM', '$11300.00')\n",
      " ('December 5 - 2017 at 06:00PM', '$11700.01')\n",
      " ('December 6 - 2017 at 05:59PM', '$12819.83')\n",
      " ('December 7 - 2017 at 05:59PM', '$16260.01')\n",
      " ('December 8 - 2017 at 06:00PM', '$15020.00')\n",
      " ('December 9 - 2017 at 05:59PM', '$15068.00')\n",
      " ('December 10 - 2017 at 06:00PM', '$15525.00')\n",
      " ('December 11 - 2017 at 06:00PM', '$16649.99')\n",
      " ('December 12 - 2017 at 06:00PM', '$17394.99')\n",
      " ('December 13 - 2017 at 06:00PM', '$16986.36')\n",
      " ('December 14 - 2017 at 06:00PM', '$16710.97')\n",
      " ('December 15 - 2017 at 06:00PM', '$17544.60')\n",
      " ('December 16 - 2017 at 05:59PM', '$18969.99')\n",
      " ('December 17 - 2017 at 05:59PM', '$19405.01')\n",
      " ('December 18 - 2017 at 05:59PM', '$18684.05')\n",
      " ('December 19 - 2017 at 06:00PM', '$18429.33')\n",
      " ('December 20 - 2017 at 05:59PM', '$16300.00')\n",
      " ('December 21 - 2017 at 06:00PM', '$15841.68')\n",
      " ('December 22 - 2017 at 06:00PM', '$12924.06')\n",
      " ('December 23 - 2017 at 05:59PM', '$15307.00')\n",
      " ('December 24 - 2017 at 06:00PM', '$13986.46')\n",
      " ('December 25 - 2017 at 05:59PM', '$14268.75')\n",
      " ('December 26 - 2017 at 05:59PM', '$16099.00')\n",
      " ('December 27 - 2017 at 06:00PM', '$14754.62')\n",
      " ('December 28 - 2017 at 06:00PM', '$13985.89')\n",
      " ('December 29 - 2017 at 06:00PM', '$14700.03')\n",
      " ('December 30 - 2017 at 06:00PM', '$12577.57')\n",
      " ('December 31 - 2017 at 05:59PM', '$14010.00')\n",
      " ('January 1 - 2018 at 06:00PM', '$13076.52')\n",
      " ('January 2 - 2018 at 06:00PM', '$13709.71')\n",
      " ('January 3 - 2018 at 06:00PM', '$15111.00')\n",
      " ('January 4 - 2018 at 05:59PM', '$14522.26')\n",
      " ('January 5 - 2018 at 06:00PM', '$16275.00')\n",
      " ('January 6 - 2018 at 06:00PM', '$16893.18')\n",
      " ('January 7 - 2018 at 05:59PM', '$16145.28')\n",
      " ('January 8 - 2018 at 06:00PM', '$14900.83')\n",
      " ('January 9 - 2018 at 05:59PM', '$14969.98')\n",
      " ('January 10 - 2018 at 06:00PM', '$14525.00')\n",
      " ('January 11 - 2018 at 05:59PM', '$13900.42')\n",
      " ('January 12 - 2018 at 06:00PM', '$13580.01')\n",
      " ('January 13 - 2018 at 06:00PM', '$14309.69')\n",
      " ('January 14 - 2018 at 05:59PM', '$13397.98')\n",
      " ('January 15 - 2018 at 05:59PM', '$14100.00')\n",
      " ('January 16 - 2018 at 06:00PM', '$12068.29')\n",
      " ('January 17 - 2018 at 06:00PM', '$10367.91')\n",
      " ('January 18 - 2018 at 06:00PM', '$11751.16')\n",
      " ('January 19 - 2018 at 06:00PM', '$11650.01')\n",
      " ('January 20 - 2018 at 05:59PM', '$12830.01')\n",
      " ('January 21 - 2018 at 05:59PM', '$11311.86')\n",
      " ('January 22 - 2018 at 05:59PM', '$10549.01')\n",
      " ('January 23 - 2018 at 06:00PM', '$11308.73')\n",
      " ('January 24 - 2018 at 05:59PM', '$11033.26')\n",
      " ('January 25 - 2018 at 05:59PM', '$10875.02')\n",
      " ('January 26 - 2018 at 06:00PM', '$11091.00')\n",
      " ('January 27 - 2018 at 06:00PM', '$11480.00')\n",
      " ('January 28 - 2018 at 06:00PM', '$11425.99')\n",
      " ('January 29 - 2018 at 06:00PM', '$11082.29')\n",
      " ('January 30 - 2018 at 05:59PM', '$10366.01')\n",
      " ('January 31 - 2018 at 06:00PM', '$9962.49')\n",
      " ('February 1 - 2018 at 05:59PM', '$8936.12')\n",
      " ('February 2 - 2018 at 06:00PM', '$9064.00')\n",
      " ('February 3 - 2018 at 06:00PM', '$9312.68')\n",
      " ('February 4 - 2018 at 06:00PM', '$8402.07')\n",
      " ('February 5 - 2018 at 06:00PM', '$7276.37')\n",
      " ('February 6 - 2018 at 06:00PM', '$7129.80')\n",
      " ('February 7 - 2018 at 06:00PM', '$8023.00')\n",
      " ('February 8 - 2018 at 05:59PM', '$8298.01')\n",
      " ('February 9 - 2018 at 06:00PM', '$8382.56')\n",
      " ('February 10 - 2018 at 05:59PM', '$8316.41')\n",
      " ('February 11 - 2018 at 06:00PM', '$8290.01')\n",
      " ('February 12 - 2018 at 05:59PM', '$8668.00')\n",
      " ('February 13 - 2018 at 05:59PM', '$8560.00')\n",
      " ('February 14 - 2018 at 05:59PM', '$9271.83')\n",
      " ('February 15 - 2018 at 05:59PM', '$9919.99')\n",
      " ('February 16 - 2018 at 06:00PM', '$10077.00')\n",
      " ('February 17 - 2018 at 05:59PM', '$10837.96')\n",
      " ('February 18 - 2018 at 06:00PM', '$10606.42')\n",
      " ('February 19 - 2018 at 05:59PM', '$11083.05')\n",
      " ('February 20 - 2018 at 05:59PM', '$11593.86')\n",
      " ('February 21 - 2018 at 06:00PM', '$10473.61')\n",
      " ('February 22 - 2018 at 06:00PM', '$9935.38')\n",
      " ('February 23 - 2018 at 05:59PM', '$10081.25')\n",
      " ('February 24 - 2018 at 05:59PM', '$9792.65')\n",
      " ('February 25 - 2018 at 06:00PM', '$9419.99')\n",
      " ('February 26 - 2018 at 06:00PM', '$10196.62')\n",
      " ('February 27 - 2018 at 06:00PM', '$10630.83')\n",
      " ('February 28 - 2018 at 05:59PM', '$10400.01')\n",
      " ('March 1 - 2018 at 06:00PM', '$10725.00')\n",
      " ('March 2 - 2018 at 06:00PM', '$10852.67')\n",
      " ('March 3 - 2018 at 05:59PM', '$11448.96')\n",
      " ('March 4 - 2018 at 06:00PM', '$11138.28')\n",
      " ('March 5 - 2018 at 06:00PM', '$11514.24')\n",
      " ('March 6 - 2018 at 06:00PM', '$10950.69')\n",
      " ('March 7 - 2018 at 06:00PM', '$9933.60')\n",
      " ('March 8 - 2018 at 05:59PM', '$9428.38')\n",
      " ('March 9 - 2018 at 05:59PM', '$8710.76')\n",
      " ('March 10 - 2018 at 06:00PM', '$9402.67')\n",
      " ('March 11 - 2018 at 05:00PM', '$9072.88')\n",
      " ('March 12 - 2018 at 05:00PM', '$9168.25')\n",
      " ('March 13 - 2018 at 05:00PM', '$9101.10')\n",
      " ('March 14 - 2018 at 05:00PM', '$8738.01')\n",
      " ('March 15 - 2018 at 05:00PM', '$8103.03')\n",
      " ('March 16 - 2018 at 05:00PM', '$8554.04')\n",
      " ('March 17 - 2018 at 04:59PM', '$7906.44')\n",
      " ('March 18 - 2018 at 05:00PM', '$7350.01')\n",
      " ('March 19 - 2018 at 04:59PM', '$8574.67')\n",
      " ('March 20 - 2018 at 05:00PM', '$8524.71')\n",
      " ('March 21 - 2018 at 04:59PM', '$9045.95')\n",
      " ('March 22 - 2018 at 05:00PM', '$8612.12')\n",
      " ('March 23 - 2018 at 05:00PM', '$8631.00')\n",
      " ('March 24 - 2018 at 04:59PM', '$8954.99')\n",
      " ('March 25 - 2018 at 06:00PM', '$8479.79')\n",
      " ('March 26 - 2018 at 05:59PM', '$8080.00')\n",
      " ('March 27 - 2018 at 06:00PM', '$8066.99')\n",
      " ('March 28 - 2018 at 05:59PM', '$7858.22')\n",
      " ('March 29 - 2018 at 06:00PM', '$7429.29')\n",
      " ('March 30 - 2018 at 05:59PM', '$6774.65')\n",
      " ('March 31 - 2018 at 05:59PM', '$7058.00')\n",
      " ('April 1 - 2018 at 05:59PM', '$6459.00')\n",
      " ('April 2 - 2018 at 06:00PM', '$7023.52')\n",
      " ('April 3 - 2018 at 05:59PM', '$7390.00')\n",
      " ('April 4 - 2018 at 06:00PM', '$6779.18')\n",
      " ('April 5 - 2018 at 06:00PM', '$6743.78')\n",
      " ('April 6 - 2018 at 06:00PM', '$6594.57')\n",
      " ('April 7 - 2018 at 05:59PM', '$7006.01')\n",
      " ('April 8 - 2018 at 06:00PM', '$7044.73')\n",
      " ('April 9 - 2018 at 06:00PM', '$6724.01')\n",
      " ('April 10 - 2018 at 06:00PM', '$6822.61')\n",
      " ('April 11 - 2018 at 06:00PM', '$6930.00')\n",
      " ('April 12 - 2018 at 05:59PM', '$7600.50')\n",
      " ('April 13 - 2018 at 05:59PM', '$8131.63')\n",
      " ('April 14 - 2018 at 05:59PM', '$7965.11')\n",
      " ('April 15 - 2018 at 06:00PM', '$8281.01')\n",
      " ('April 16 - 2018 at 06:00PM', '$7975.00')\n",
      " ('April 17 - 2018 at 06:00PM', '$8089.00')\n",
      " ('April 18 - 2018 at 05:59PM', '$8008.98')\n",
      " ('April 19 - 2018 at 06:00PM', '$8219.00')\n",
      " ('April 20 - 2018 at 05:59PM', '$8476.02')\n",
      " ('April 21 - 2018 at 05:59PM', '$8817.00')\n",
      " ('April 22 - 2018 at 06:00PM', '$8931.01')\n",
      " ('April 23 - 2018 at 05:59PM', '$8905.90')\n",
      " ('April 24 - 2018 at 06:00PM', '$9350.12')\n",
      " ('April 25 - 2018 at 05:59PM', '$8939.43')\n",
      " ('April 26 - 2018 at 06:00PM', '$8799.72')\n",
      " ('April 27 - 2018 at 05:59PM', '$9225.00')\n",
      " ('April 28 - 2018 at 05:59PM', '$9336.00')\n",
      " ('April 29 - 2018 at 06:00PM', '$9325.01')\n",
      " ('April 30 - 2018 at 05:59PM', '$9275.00')\n",
      " ('May 1 - 2018 at 05:59PM', '$8913.38')\n",
      " ('May 2 - 2018 at 06:00PM', '$9134.00')\n",
      " ('May 3 - 2018 at 05:59PM', '$9389.00')\n",
      " ('May 4 - 2018 at 05:59PM', '$9591.00')\n",
      " ('May 5 - 2018 at 06:00PM', '$9889.01')\n",
      " ('May 6 - 2018 at 05:59PM', '$9460.43')\n",
      " ('May 7 - 2018 at 05:59PM', '$9320.58')\n",
      " ('May 8 - 2018 at 06:00PM', '$9172.76')\n",
      " ('May 9 - 2018 at 06:00PM', '$9279.06')\n",
      " ('May 10 - 2018 at 05:59PM', '$9319.60')\n",
      " ('May 11 - 2018 at 05:59PM', '$8576.09')\n",
      " ('May 12 - 2018 at 06:00PM', '$8364.01')\n",
      " ('May 13 - 2018 at 05:59PM', '$8619.44')\n",
      " ('May 14 - 2018 at 05:59PM', '$8782.01')\n",
      " ('May 15 - 2018 at 05:59PM', '$8529.86')\n",
      " ('May 16 - 2018 at 06:00PM', '$8280.01')\n",
      " ('May 17 - 2018 at 06:00PM', '$8299.01')\n",
      " ('May 18 - 2018 at 06:00PM', '$8111.00')\n",
      " ('May 19 - 2018 at 06:00PM', '$8319.24')\n",
      " ('May 20 - 2018 at 06:00PM', '$8373.79')\n",
      " ('May 21 - 2018 at 05:59PM', '$8404.00')\n",
      " ('May 22 - 2018 at 05:59PM', '$8230.36')\n",
      " ('May 23 - 2018 at 05:59PM', '$7717.01')\n",
      " ('May 24 - 2018 at 05:59PM', '$7567.58')\n",
      " ('May 25 - 2018 at 05:59PM', '$7496.01')\n",
      " ('May 26 - 2018 at 06:00PM', '$7535.43')\n",
      " ('May 27 - 2018 at 06:00PM', '$7337.18')\n",
      " ('May 28 - 2018 at 05:59PM', '$7225.79')\n",
      " ('May 29 - 2018 at 06:00PM', '$7425.00')\n",
      " ('May 30 - 2018 at 05:59PM', '$7325.21')\n",
      " ('May 31 - 2018 at 05:59PM', '$7552.29')\n",
      " ('June 1 - 2018 at 05:59PM', '$7438.81')\n",
      " ('June 2 - 2018 at 05:59PM', '$7618.02')\n",
      " ('June 3 - 2018 at 06:00PM', '$7724.86')\n",
      " ('June 4 - 2018 at 06:00PM', '$7496.18')\n",
      " ('June 5 - 2018 at 05:59PM', '$7513.89')\n",
      " ('June 6 - 2018 at 05:59PM', '$7655.00')\n",
      " ('June 7 - 2018 at 06:00PM', '$7683.85')\n",
      " ('June 8 - 2018 at 06:00PM', '$7630.35')\n",
      " ('June 9 - 2018 at 06:00PM', '$7617.70')\n",
      " ('June 10 - 2018 at 06:00PM', '$7237.00')\n",
      " ('June 11 - 2018 at 06:00PM', '$6711.69')\n",
      " ('June 12 - 2018 at 05:59PM', '$6764.80')\n",
      " ('June 13 - 2018 at 05:59PM', '$6373.60')\n",
      " ('June 14 - 2018 at 05:59PM', '$6335.98')\n",
      " ('June 15 - 2018 at 05:59PM', '$6551.40')\n",
      " ('June 16 - 2018 at 05:59PM', '$6363.82')\n",
      " ('June 17 - 2018 at 06:00PM', '$6515.01')\n",
      " ('June 18 - 2018 at 05:59PM', '$6466.88')\n",
      " ('June 19 - 2018 at 05:59PM', '$6750.30')\n",
      " ('June 20 - 2018 at 06:00PM', '$6756.85')\n",
      " ('June 21 - 2018 at 05:59PM', '$6717.00')\n",
      " ('June 22 - 2018 at 06:00PM', '$6153.05')\n",
      " ('June 23 - 2018 at 05:59PM', '$6112.25')\n",
      " ('June 24 - 2018 at 05:59PM', '$5783.08')\n",
      " ('June 25 - 2018 at 05:59PM', '$6290.00')\n",
      " ('June 26 - 2018 at 05:59PM', '$6185.00')\n",
      " ('June 27 - 2018 at 06:00PM', '$6110.41')\n",
      " ('June 28 - 2018 at 06:00PM', '$6098.75')\n",
      " ('June 29 - 2018 at 06:00PM', '$5898.58')\n",
      " ('June 30 - 2018 at 05:59PM', '$6375.63')\n",
      " ('July 1 - 2018 at 05:59PM', '$6317.91')\n",
      " ('July 2 - 2018 at 05:59PM', '$6611.00')\n",
      " ('July 3 - 2018 at 05:59PM', '$6588.58')\n",
      " ('July 4 - 2018 at 05:59PM', '$6679.50')\n",
      " ('July 5 - 2018 at 05:59PM', '$6609.30')\n",
      " ('July 6 - 2018 at 05:59PM', '$6566.77')\n",
      " ('July 7 - 2018 at 05:59PM', '$6555.75')\n",
      " ('July 8 - 2018 at 05:59PM', '$6742.00')\n",
      " ('July 9 - 2018 at 05:59PM', '$6715.90')\n",
      " ('July 10 - 2018 at 06:00PM', '$6380.70')\n",
      " ('July 11 - 2018 at 05:59PM', '$6365.95')\n",
      " ('July 12 - 2018 at 06:00PM', '$6168.79')\n",
      " ('July 13 - 2018 at 05:59PM', '$6257.13')\n",
      " ('July 14 - 2018 at 06:00PM', '$6241.31')\n",
      " ('July 15 - 2018 at 05:59PM', '$6370.48')\n",
      " ('July 16 - 2018 at 06:00PM', '$6629.00')\n",
      " ('July 17 - 2018 at 05:59PM', '$6761.01')\n",
      " ('July 18 - 2018 at 05:59PM', '$7418.68')\n",
      " ('July 19 - 2018 at 05:59PM', '$7371.73')\n",
      " ('July 20 - 2018 at 05:59PM', '$7463.58')\n",
      " ('July 21 - 2018 at 05:59PM', '$7389.21')\n",
      " ('July 22 - 2018 at 05:59PM', '$7517.33')\n",
      " ('July 23 - 2018 at 06:00PM', '$7725.51')\n",
      " ('July 24 - 2018 at 06:00PM', '$8177.09')\n",
      " ('July 25 - 2018 at 06:00PM', '$8091.00')\n",
      " ('July 26 - 2018 at 05:59PM', '$8201.68')\n",
      " ('July 27 - 2018 at 06:00PM', '$8145.00')\n",
      " ('July 28 - 2018 at 06:00PM', '$8103.62')\n",
      " ('July 29 - 2018 at 05:59PM', '$8221.23')\n",
      " ('July 30 - 2018 at 05:59PM', '$8115.00')\n",
      " ('July 31 - 2018 at 06:00PM', '$7751.00')\n",
      " ('August 1 - 2018 at 06:00PM', '$7599.90')\n",
      " ('August 2 - 2018 at 05:59PM', '$7526.21')\n",
      " ('August 9 - 2018 at 05:59PM', '$6443.00')\n",
      " ('August 10 - 2018 at 05:59PM', '$6450.82')\n",
      " ('August 11 - 2018 at 05:59PM', '$6117.06')\n",
      " ('August 12 - 2018 at 06:00PM', '$6314.60')\n",
      " ('August 13 - 2018 at 06:00PM', '$6291.51')\n",
      " ('August 14 - 2018 at 05:59PM', '$6038.39')\n",
      " ('August 15 - 2018 at 05:59PM', '$6450.01')]\n"
     ]
    }
   ],
   "source": [
    "print(dataArray)"
   ]
  },
  {
   "cell_type": "code",
   "execution_count": 6,
   "metadata": {},
   "outputs": [],
   "source": [
    "prices = []\n",
    "for i in dataArray:\n",
    "    prices.append(float(i[1][1:]))"
   ]
  },
  {
   "cell_type": "code",
   "execution_count": 7,
   "metadata": {},
   "outputs": [
    {
     "name": "stdout",
     "output_type": "stream",
     "text": [
      "[3990.7, 3749.45, 3531.57, 3750.01, 3707.48, 3923.99, 3927.33, 4073.78, 4139.03, 4187.37, 4330.25, 4270.01, 4380.46, 4292.8, 4212.04, 4321.98, 4382.01, 4346.98, 4569.99, 4645.25, 4802.02, 4839.01, 5297.06, 5714.95, 5709.83, 5534.16, 5699.97, 5589.51, 5342.02, 5650.22, 5964.24, 6165.91, 6018.87, 5791.99, 5648.52, 5483.92, 5951.26, 5756.38, 5715.01, 5986.27, 6087.02, 6365.68, 6569.35, 7077.99, 7373.0, 7334.78, 7535.06, 7152.81, 7006.04, 7475.0, 7171.12, 6894.79, 6401.03, 7888.01, 7660.01, 7799.95, 8240.01, 8282.0, 8200.0, 8178.0, 8200.0, 8660.17, 9383.0, 9604.09, 9938.94, 10827.46, 9469.28, 10620.99, 10866.0, 11695.37, 11300.0, 11700.01, 12819.83, 16260.01, 15020.0, 15068.0, 15525.0, 16649.99, 17394.99, 16986.36, 16710.97, 17544.6, 18969.99, 19405.01, 18684.05, 18429.33, 16300.0, 15841.68, 12924.06, 15307.0, 13986.46, 14268.75, 16099.0, 14754.62, 13985.89, 14700.03, 12577.57, 14010.0, 13076.52, 13709.71, 15111.0, 14522.26, 16275.0, 16893.18, 16145.28, 14900.83, 14969.98, 14525.0, 13900.42, 13580.01, 14309.69, 13397.98, 14100.0, 12068.29, 10367.91, 11751.16, 11650.01, 12830.01, 11311.86, 10549.01, 11308.73, 11033.26, 10875.02, 11091.0, 11480.0, 11425.99, 11082.29, 10366.01, 9962.49, 8936.12, 9064.0, 9312.68, 8402.07, 7276.37, 7129.8, 8023.0, 8298.01, 8382.56, 8316.41, 8290.01, 8668.0, 8560.0, 9271.83, 9919.99, 10077.0, 10837.96, 10606.42, 11083.05, 11593.86, 10473.61, 9935.38, 10081.25, 9792.65, 9419.99, 10196.62, 10630.83, 10400.01, 10725.0, 10852.67, 11448.96, 11138.28, 11514.24, 10950.69, 9933.6, 9428.38, 8710.76, 9402.67, 9072.88, 9168.25, 9101.1, 8738.01, 8103.03, 8554.04, 7906.44, 7350.01, 8574.67, 8524.71, 9045.95, 8612.12, 8631.0, 8954.99, 8479.79, 8080.0, 8066.99, 7858.22, 7429.29, 6774.65, 7058.0, 6459.0, 7023.52, 7390.0, 6779.18, 6743.78, 6594.57, 7006.01, 7044.73, 6724.01, 6822.61, 6930.0, 7600.5, 8131.63, 7965.11, 8281.01, 7975.0, 8089.0, 8008.98, 8219.0, 8476.02, 8817.0, 8931.01, 8905.9, 9350.12, 8939.43, 8799.72, 9225.0, 9336.0, 9325.01, 9275.0, 8913.38, 9134.0, 9389.0, 9591.0, 9889.01, 9460.43, 9320.58, 9172.76, 9279.06, 9319.6, 8576.09, 8364.01, 8619.44, 8782.01, 8529.86, 8280.01, 8299.01, 8111.0, 8319.24, 8373.79, 8404.0, 8230.36, 7717.01, 7567.58, 7496.01, 7535.43, 7337.18, 7225.79, 7425.0, 7325.21, 7552.29, 7438.81, 7618.02, 7724.86, 7496.18, 7513.89, 7655.0, 7683.85, 7630.35, 7617.7, 7237.0, 6711.69, 6764.8, 6373.6, 6335.98, 6551.4, 6363.82, 6515.01, 6466.88, 6750.3, 6756.85, 6717.0, 6153.05, 6112.25, 5783.08, 6290.0, 6185.0, 6110.41, 6098.75, 5898.58, 6375.63, 6317.91, 6611.0, 6588.58, 6679.5, 6609.3, 6566.77, 6555.75, 6742.0, 6715.9, 6380.7, 6365.95, 6168.79, 6257.13, 6241.31, 6370.48, 6629.0, 6761.01, 7418.68, 7371.73, 7463.58, 7389.21, 7517.33, 7725.51, 8177.09, 8091.0, 8201.68, 8145.0, 8103.62, 8221.23, 8115.0, 7751.0, 7599.9, 7526.21, 6443.0, 6450.82, 6117.06, 6314.6, 6291.51, 6038.39, 6450.01]\n"
     ]
    }
   ],
   "source": [
    "print(prices)"
   ]
  },
  {
   "cell_type": "code",
   "execution_count": 8,
   "metadata": {},
   "outputs": [],
   "source": [
    "pricesnp = np.array(prices)"
   ]
  },
  {
   "cell_type": "markdown",
   "metadata": {},
   "source": [
    "# Statistics"
   ]
  },
  {
   "cell_type": "markdown",
   "metadata": {},
   "source": [
    "## Centrumaten"
   ]
  },
  {
   "cell_type": "markdown",
   "metadata": {},
   "source": [
    "### Gemiddelde "
   ]
  },
  {
   "cell_type": "code",
   "execution_count": 9,
   "metadata": {},
   "outputs": [
    {
     "name": "stdout",
     "output_type": "stream",
     "text": [
      "gemiddelde is 8769.383981191224\n"
     ]
    }
   ],
   "source": [
    "print(\"gemiddelde is\", pricesnp.mean())"
   ]
  },
  {
   "cell_type": "markdown",
   "metadata": {},
   "source": [
    "### mediaan"
   ]
  },
  {
   "cell_type": "code",
   "execution_count": 10,
   "metadata": {},
   "outputs": [
    {
     "name": "stdout",
     "output_type": "stream",
     "text": [
      "mediaan is  8115.0\n"
     ]
    }
   ],
   "source": [
    "print(\"mediaan is \" , np.median(pricesnp))"
   ]
  },
  {
   "cell_type": "markdown",
   "metadata": {},
   "source": [
    "### modus"
   ]
  },
  {
   "cell_type": "code",
   "execution_count": 11,
   "metadata": {},
   "outputs": [
    {
     "name": "stdout",
     "output_type": "stream",
     "text": [
      "modus is ModeResult(mode=array([8200.]), count=array([2]))\n"
     ]
    }
   ],
   "source": [
    "print('modus is', stats.mode(pricesnp))"
   ]
  },
  {
   "cell_type": "markdown",
   "metadata": {},
   "source": [
    "## Spreidingsmaten"
   ]
  },
  {
   "cell_type": "markdown",
   "metadata": {},
   "source": [
    "### bereik"
   ]
  },
  {
   "cell_type": "code",
   "execution_count": 12,
   "metadata": {},
   "outputs": [
    {
     "name": "stdout",
     "output_type": "stream",
     "text": [
      "Bereik/Range is 15873.439999999999\n"
     ]
    }
   ],
   "source": [
    "print(\"Bereik/Range is\", pricesnp.max() - pricesnp.min())"
   ]
  },
  {
   "cell_type": "markdown",
   "metadata": {},
   "source": [
    "### interkwartielafstand"
   ]
  },
  {
   "cell_type": "code",
   "execution_count": 13,
   "metadata": {},
   "outputs": [
    {
     "data": {
      "text/plain": [
       "{'whiskers': [<matplotlib.lines.Line2D at 0x27ce13e8b00>,\n",
       "  <matplotlib.lines.Line2D at 0x27ce13e8e48>],\n",
       " 'caps': [<matplotlib.lines.Line2D at 0x27ce13e8f28>,\n",
       "  <matplotlib.lines.Line2D at 0x27ce13fc518>],\n",
       " 'boxes': [<matplotlib.lines.Line2D at 0x27ce13e86d8>],\n",
       " 'medians': [<matplotlib.lines.Line2D at 0x27ce13fc860>],\n",
       " 'fliers': [<matplotlib.lines.Line2D at 0x27ce13fcba8>],\n",
       " 'means': []}"
      ]
     },
     "execution_count": 13,
     "metadata": {},
     "output_type": "execute_result"
    },
    {
     "data": {
      "image/png": "[encoded data removed]",
      "text/plain": [
       "<Figure size 432x288 with 1 Axes>"
      ]
     },
     "metadata": {
      "needs_background": "light"
     },
     "output_type": "display_data"
    }
   ],
   "source": [
    "plt.boxplot(pricesnp)"
   ]
  },
  {
   "cell_type": "markdown",
   "metadata": {},
   "source": [
    "### standaarddeviatie"
   ]
  },
  {
   "cell_type": "code",
   "execution_count": 14,
   "metadata": {},
   "outputs": [
    {
     "name": "stdout",
     "output_type": "stream",
     "text": [
      "standaarddeviatie 3149.5824835400135\n"
     ]
    }
   ],
   "source": [
    "print(\"standaarddeviatie\", pricesnp.std())"
   ]
  },
  {
   "cell_type": "code",
   "execution_count": 15,
   "metadata": {},
   "outputs": [
    {
     "data": {
      "text/plain": [
       "[<matplotlib.lines.Line2D at 0x27ce147fcc0>]"
      ]
     },
     "execution_count": 15,
     "metadata": {},
     "output_type": "execute_result"
    },
    {
     "data": {
      "image/png": "[encoded data removed]",
      "text/plain": [
       "<Figure size 432x288 with 1 Axes>"
      ]
     },
     "metadata": {
      "needs_background": "light"
     },
     "output_type": "display_data"
    }
   ],
   "source": [
    "plt.plot(pricesnp)"
   ]
  },
  {
   "cell_type": "code",
   "execution_count": null,
   "metadata": {},
   "outputs": [],
   "source": []
  }
 ],
 "metadata": {
  "kernelspec": {
   "display_name": "Python 3",
   "language": "python",
   "name": "python3"
  },
  "language_info": {
   "codemirror_mode": {
    "name": "ipython",
    "version": 3
   },
   "file_extension": ".py",
   "mimetype": "text/x-python",
   "name": "python",
   "nbconvert_exporter": "python",
   "pygments_lexer": "ipython3",
   "version": "3.7.0"
  }
 },
 "nbformat": 4,
 "nbformat_minor": 2
}
